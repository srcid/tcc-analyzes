{
 "cells": [
  {
   "cell_type": "markdown",
   "metadata": {},
   "source": [
    "# Análise dos resultados do tcc 2 (GRUPO 01)\n",
    "\n",
    "Foram testados os modelos Common Blocks e Common Substring com quatro solvers diferentes com 10 instancias do problema."
   ]
  },
  {
   "cell_type": "code",
   "execution_count": 116,
   "metadata": {
    "id": "2Bo6J5ejRpJ6"
   },
   "outputs": [],
   "source": [
    "import pandas as pd\n",
    "import numpy as np\n",
    "import matplotlib.pylab as plt"
   ]
  },
  {
   "cell_type": "code",
   "execution_count": 2,
   "metadata": {
    "id": "GRscA5gZePU-"
   },
   "outputs": [],
   "source": [
    "MILS_TO_HOURS = 2.77778 * 1e-7\n",
    "MILS_TO_MINS = 1.66667 * 1e-5\n",
    "MILS_TO_SECS = 1e-3"
   ]
  },
  {
   "cell_type": "markdown",
   "metadata": {
    "id": "AIO7uyExXEKG"
   },
   "source": [
    "## Importando dados dataset"
   ]
  },
  {
   "cell_type": "code",
   "execution_count": 3,
   "metadata": {
    "id": "ojD3pVxHSbAg"
   },
   "outputs": [],
   "source": [
    "df = pd.read_csv(\n",
    "    './resultados_tcc_1.csv.gz',\n",
    "    compression='gzip'\n",
    ")\n",
    "df.rename(columns={'TIME': 'TIME(ms)'}, inplace=True)"
   ]
  },
  {
   "cell_type": "markdown",
   "metadata": {
    "id": "KAZbna8fXeml"
   },
   "source": [
    "O dataframe a seguir contém os dados de 31 execuções para cada solver, modelo e instância do problema. Para iniciarmos vamos remover algumas colunas que não importam por enquanto (como a coluna de nome da instância e do resultado obtido) e calcular a média do tempo de execução"
   ]
  },
  {
   "cell_type": "code",
   "execution_count": 4,
   "metadata": {
    "colab": {
     "base_uri": "https://localhost:8080/",
     "height": 206
    },
    "id": "lW3NnbtYSt98",
    "outputId": "34deb067-28f2-44b7-a85d-d88bd748b81a"
   },
   "outputs": [
    {
     "data": {
      "text/html": [
       "<div>\n",
       "<style scoped>\n",
       "    .dataframe tbody tr th:only-of-type {\n",
       "        vertical-align: middle;\n",
       "    }\n",
       "\n",
       "    .dataframe tbody tr th {\n",
       "        vertical-align: top;\n",
       "    }\n",
       "\n",
       "    .dataframe thead th {\n",
       "        text-align: right;\n",
       "    }\n",
       "</style>\n",
       "<table border=\"1\" class=\"dataframe\">\n",
       "  <thead>\n",
       "    <tr style=\"text-align: right;\">\n",
       "      <th></th>\n",
       "      <th>INSTANCE</th>\n",
       "      <th>MODEL</th>\n",
       "      <th>SIZE</th>\n",
       "      <th>RECVAL</th>\n",
       "      <th>TIME(ms)</th>\n",
       "      <th>SOLVER</th>\n",
       "    </tr>\n",
       "  </thead>\n",
       "  <tbody>\n",
       "    <tr>\n",
       "      <th>0</th>\n",
       "      <td>rand_S1-n170-A4-D0.04-10.dat</td>\n",
       "      <td>cs</td>\n",
       "      <td>170</td>\n",
       "      <td>54</td>\n",
       "      <td>2079.3940</td>\n",
       "      <td>CPLEX</td>\n",
       "    </tr>\n",
       "    <tr>\n",
       "      <th>1</th>\n",
       "      <td>rand_S1-n170-A4-D0.04-10.dat</td>\n",
       "      <td>cs</td>\n",
       "      <td>170</td>\n",
       "      <td>54</td>\n",
       "      <td>1905.7864</td>\n",
       "      <td>CPLEX</td>\n",
       "    </tr>\n",
       "    <tr>\n",
       "      <th>2</th>\n",
       "      <td>rand_S1-n170-A4-D0.04-10.dat</td>\n",
       "      <td>cs</td>\n",
       "      <td>170</td>\n",
       "      <td>54</td>\n",
       "      <td>1958.1331</td>\n",
       "      <td>CPLEX</td>\n",
       "    </tr>\n",
       "    <tr>\n",
       "      <th>3</th>\n",
       "      <td>rand_S1-n170-A4-D0.04-10.dat</td>\n",
       "      <td>cs</td>\n",
       "      <td>170</td>\n",
       "      <td>54</td>\n",
       "      <td>1940.7581</td>\n",
       "      <td>CPLEX</td>\n",
       "    </tr>\n",
       "    <tr>\n",
       "      <th>4</th>\n",
       "      <td>rand_S1-n170-A4-D0.04-10.dat</td>\n",
       "      <td>cs</td>\n",
       "      <td>170</td>\n",
       "      <td>54</td>\n",
       "      <td>1954.5483</td>\n",
       "      <td>CPLEX</td>\n",
       "    </tr>\n",
       "  </tbody>\n",
       "</table>\n",
       "</div>"
      ],
      "text/plain": [
       "                       INSTANCE MODEL  SIZE  RECVAL   TIME(ms) SOLVER\n",
       "0  rand_S1-n170-A4-D0.04-10.dat    cs   170      54  2079.3940  CPLEX\n",
       "1  rand_S1-n170-A4-D0.04-10.dat    cs   170      54  1905.7864  CPLEX\n",
       "2  rand_S1-n170-A4-D0.04-10.dat    cs   170      54  1958.1331  CPLEX\n",
       "3  rand_S1-n170-A4-D0.04-10.dat    cs   170      54  1940.7581  CPLEX\n",
       "4  rand_S1-n170-A4-D0.04-10.dat    cs   170      54  1954.5483  CPLEX"
      ]
     },
     "execution_count": 4,
     "metadata": {},
     "output_type": "execute_result"
    }
   ],
   "source": [
    "df.head()"
   ]
  },
  {
   "cell_type": "code",
   "execution_count": 5,
   "metadata": {
    "id": "SFqWAMOaSxrn"
   },
   "outputs": [],
   "source": [
    "df.drop(labels=['INSTANCE', 'RECVAL'], axis='columns', inplace=True)"
   ]
  },
  {
   "cell_type": "code",
   "execution_count": 6,
   "metadata": {
    "id": "Jk3Pry58TZEz"
   },
   "outputs": [],
   "source": [
    "df_mean = pd.DataFrame(df.groupby(['MODEL','SIZE','SOLVER'])['TIME(ms)'].mean())"
   ]
  },
  {
   "cell_type": "code",
   "execution_count": 7,
   "metadata": {},
   "outputs": [
    {
     "data": {
      "text/html": [
       "<div>\n",
       "<style scoped>\n",
       "    .dataframe tbody tr th:only-of-type {\n",
       "        vertical-align: middle;\n",
       "    }\n",
       "\n",
       "    .dataframe tbody tr th {\n",
       "        vertical-align: top;\n",
       "    }\n",
       "\n",
       "    .dataframe thead th {\n",
       "        text-align: right;\n",
       "    }\n",
       "</style>\n",
       "<table border=\"1\" class=\"dataframe\">\n",
       "  <thead>\n",
       "    <tr style=\"text-align: right;\">\n",
       "      <th></th>\n",
       "      <th></th>\n",
       "      <th></th>\n",
       "      <th>TIME(ms)</th>\n",
       "    </tr>\n",
       "    <tr>\n",
       "      <th>MODEL</th>\n",
       "      <th>SIZE</th>\n",
       "      <th>SOLVER</th>\n",
       "      <th></th>\n",
       "    </tr>\n",
       "  </thead>\n",
       "  <tbody>\n",
       "    <tr>\n",
       "      <th rowspan=\"5\" valign=\"top\">cb</th>\n",
       "      <th rowspan=\"4\" valign=\"top\">113</th>\n",
       "      <th>CBC</th>\n",
       "      <td>798.509694</td>\n",
       "    </tr>\n",
       "    <tr>\n",
       "      <th>CPLEX</th>\n",
       "      <td>645.323271</td>\n",
       "    </tr>\n",
       "    <tr>\n",
       "      <th>GUROBI</th>\n",
       "      <td>544.115116</td>\n",
       "    </tr>\n",
       "    <tr>\n",
       "      <th>SCIP</th>\n",
       "      <td>8366.244648</td>\n",
       "    </tr>\n",
       "    <tr>\n",
       "      <th>114</th>\n",
       "      <th>CBC</th>\n",
       "      <td>2034.015381</td>\n",
       "    </tr>\n",
       "  </tbody>\n",
       "</table>\n",
       "</div>"
      ],
      "text/plain": [
       "                      TIME(ms)\n",
       "MODEL SIZE SOLVER             \n",
       "cb    113  CBC      798.509694\n",
       "           CPLEX    645.323271\n",
       "           GUROBI   544.115116\n",
       "           SCIP    8366.244648\n",
       "      114  CBC     2034.015381"
      ]
     },
     "execution_count": 7,
     "metadata": {},
     "output_type": "execute_result"
    }
   ],
   "source": [
    "df_mean.head()"
   ]
  },
  {
   "cell_type": "code",
   "execution_count": 8,
   "metadata": {
    "id": "bqvUeob3ZvNP"
   },
   "outputs": [],
   "source": [
    "df_mean = df_mean.reset_index()"
   ]
  },
  {
   "cell_type": "markdown",
   "metadata": {
    "id": "vNTVB_HQZAPw"
   },
   "source": [
    "Desse modo obtemos a média do tempo de execução para cada instância separada por modelo, tamanho e solver."
   ]
  },
  {
   "cell_type": "code",
   "execution_count": 9,
   "metadata": {
    "colab": {
     "base_uri": "https://localhost:8080/",
     "height": 206
    },
    "id": "V3ZaARM6b0tR",
    "outputId": "5a738fe3-6c80-4272-ed52-1966b1769c4c"
   },
   "outputs": [
    {
     "data": {
      "text/html": [
       "<div>\n",
       "<style scoped>\n",
       "    .dataframe tbody tr th:only-of-type {\n",
       "        vertical-align: middle;\n",
       "    }\n",
       "\n",
       "    .dataframe tbody tr th {\n",
       "        vertical-align: top;\n",
       "    }\n",
       "\n",
       "    .dataframe thead th {\n",
       "        text-align: right;\n",
       "    }\n",
       "</style>\n",
       "<table border=\"1\" class=\"dataframe\">\n",
       "  <thead>\n",
       "    <tr style=\"text-align: right;\">\n",
       "      <th></th>\n",
       "      <th>MODEL</th>\n",
       "      <th>SIZE</th>\n",
       "      <th>SOLVER</th>\n",
       "      <th>TIME(ms)</th>\n",
       "    </tr>\n",
       "  </thead>\n",
       "  <tbody>\n",
       "    <tr>\n",
       "      <th>0</th>\n",
       "      <td>cb</td>\n",
       "      <td>113</td>\n",
       "      <td>CBC</td>\n",
       "      <td>798.509694</td>\n",
       "    </tr>\n",
       "    <tr>\n",
       "      <th>1</th>\n",
       "      <td>cb</td>\n",
       "      <td>113</td>\n",
       "      <td>CPLEX</td>\n",
       "      <td>645.323271</td>\n",
       "    </tr>\n",
       "    <tr>\n",
       "      <th>2</th>\n",
       "      <td>cb</td>\n",
       "      <td>113</td>\n",
       "      <td>GUROBI</td>\n",
       "      <td>544.115116</td>\n",
       "    </tr>\n",
       "    <tr>\n",
       "      <th>3</th>\n",
       "      <td>cb</td>\n",
       "      <td>113</td>\n",
       "      <td>SCIP</td>\n",
       "      <td>8366.244648</td>\n",
       "    </tr>\n",
       "    <tr>\n",
       "      <th>4</th>\n",
       "      <td>cb</td>\n",
       "      <td>114</td>\n",
       "      <td>CBC</td>\n",
       "      <td>2034.015381</td>\n",
       "    </tr>\n",
       "  </tbody>\n",
       "</table>\n",
       "</div>"
      ],
      "text/plain": [
       "  MODEL  SIZE  SOLVER     TIME(ms)\n",
       "0    cb   113     CBC   798.509694\n",
       "1    cb   113   CPLEX   645.323271\n",
       "2    cb   113  GUROBI   544.115116\n",
       "3    cb   113    SCIP  8366.244648\n",
       "4    cb   114     CBC  2034.015381"
      ]
     },
     "execution_count": 9,
     "metadata": {},
     "output_type": "execute_result"
    }
   ],
   "source": [
    "df_mean.head()"
   ]
  },
  {
   "cell_type": "markdown",
   "metadata": {
    "id": "Lf2YXZ1Yb8Gx"
   },
   "source": [
    "## Modelo mais rápido no geral\n",
    "\n",
    "Como podemos ver abaixo, o modelo common substring foi o mais rápido, com um speedup de 111%."
   ]
  },
  {
   "cell_type": "code",
   "execution_count": 14,
   "metadata": {},
   "outputs": [
    {
     "data": {
      "text/plain": [
       "7.260270828093262"
      ]
     },
     "execution_count": 14,
     "metadata": {},
     "output_type": "execute_result"
    }
   ],
   "source": [
    "df_mean[ df_mean['MODEL'] == 'cb' ]['TIME(ms)'].sum() * MILS_TO_MINS"
   ]
  },
  {
   "cell_type": "code",
   "execution_count": 15,
   "metadata": {},
   "outputs": [
    {
     "data": {
      "text/plain": [
       "6.509340198708124"
      ]
     },
     "execution_count": 15,
     "metadata": {},
     "output_type": "execute_result"
    }
   ],
   "source": [
    "df_mean[ df_mean['MODEL'] == 'cs' ]['TIME(ms)'].sum() * MILS_TO_MINS"
   ]
  },
  {
   "cell_type": "code",
   "execution_count": 11,
   "metadata": {
    "id": "kJieChqoei8G"
   },
   "outputs": [],
   "source": [
    "time_by_model = pd.DataFrame(df_mean.groupby(['MODEL'])['TIME(ms)'].sum() * MILS_TO_MINS).rename(columns={'TIME(ms)': 'TIME(m)'})"
   ]
  },
  {
   "cell_type": "code",
   "execution_count": 12,
   "metadata": {},
   "outputs": [
    {
     "data": {
      "text/html": [
       "<div>\n",
       "<style scoped>\n",
       "    .dataframe tbody tr th:only-of-type {\n",
       "        vertical-align: middle;\n",
       "    }\n",
       "\n",
       "    .dataframe tbody tr th {\n",
       "        vertical-align: top;\n",
       "    }\n",
       "\n",
       "    .dataframe thead th {\n",
       "        text-align: right;\n",
       "    }\n",
       "</style>\n",
       "<table border=\"1\" class=\"dataframe\">\n",
       "  <thead>\n",
       "    <tr style=\"text-align: right;\">\n",
       "      <th></th>\n",
       "      <th>TIME(m)</th>\n",
       "    </tr>\n",
       "    <tr>\n",
       "      <th>MODEL</th>\n",
       "      <th></th>\n",
       "    </tr>\n",
       "  </thead>\n",
       "  <tbody>\n",
       "    <tr>\n",
       "      <th>cb</th>\n",
       "      <td>7.260271</td>\n",
       "    </tr>\n",
       "    <tr>\n",
       "      <th>cs</th>\n",
       "      <td>6.509340</td>\n",
       "    </tr>\n",
       "  </tbody>\n",
       "</table>\n",
       "</div>"
      ],
      "text/plain": [
       "        TIME(m)\n",
       "MODEL          \n",
       "cb     7.260271\n",
       "cs     6.509340"
      ]
     },
     "execution_count": 12,
     "metadata": {},
     "output_type": "execute_result"
    }
   ],
   "source": [
    "time_by_model"
   ]
  },
  {
   "cell_type": "code",
   "execution_count": 178,
   "metadata": {},
   "outputs": [
    {
     "data": {
      "text/plain": [
       "1.1153620188155084"
      ]
     },
     "execution_count": 178,
     "metadata": {},
     "output_type": "execute_result"
    }
   ],
   "source": [
    "(time_by_model['TIME(m)'].max() / time_by_model['TIME(m)'].min())"
   ]
  },
  {
   "cell_type": "code",
   "execution_count": 176,
   "metadata": {
    "colab": {
     "base_uri": "https://localhost:8080/",
     "height": 143
    },
    "id": "3KSrMGtDfbqj",
    "outputId": "00848bcf-1ad7-40d5-a005-cb67c7051700"
   },
   "outputs": [
    {
     "data": {
      "text/plain": [
       "<Axes: xlabel='MODEL'>"
      ]
     },
     "execution_count": 176,
     "metadata": {},
     "output_type": "execute_result"
    },
    {
     "data": {
      "image/png": "[encoded data removed]",
      "text/plain": [
       "<Figure size 640x480 with 1 Axes>"
      ]
     },
     "metadata": {},
     "output_type": "display_data"
    }
   ],
   "source": [
    "time_by_model.plot(kind='bar')"
   ]
  },
  {
   "cell_type": "markdown",
   "metadata": {},
   "source": [
    "## Solver foi mais rápido no geral\n",
    "\n",
    "O CPLEX foi o solver mais rápido no testes em geral com os dois modelos. Executando os testes e em 0.55 minuto seguido pelo GUROBI, SCIP e CBC, respectivamente com um 1.5, 1.67, 4.9 e 6.63 minutos."
   ]
  },
  {
   "cell_type": "code",
   "execution_count": 173,
   "metadata": {},
   "outputs": [],
   "source": [
    "time_by_solvers = (pd.DataFrame(df_mean.groupby('SOLVER')['TIME(ms)'].sum() * MILS_TO_MINS)\n",
    "                    .rename(columns={'TIME(ms)': 'TIME(m)'})\n",
    "                    .sort_values(by='TIME(m)'))"
   ]
  },
  {
   "cell_type": "code",
   "execution_count": 174,
   "metadata": {},
   "outputs": [
    {
     "data": {
      "text/html": [
       "<div>\n",
       "<style scoped>\n",
       "    .dataframe tbody tr th:only-of-type {\n",
       "        vertical-align: middle;\n",
       "    }\n",
       "\n",
       "    .dataframe tbody tr th {\n",
       "        vertical-align: top;\n",
       "    }\n",
       "\n",
       "    .dataframe thead th {\n",
       "        text-align: right;\n",
       "    }\n",
       "</style>\n",
       "<table border=\"1\" class=\"dataframe\">\n",
       "  <thead>\n",
       "    <tr style=\"text-align: right;\">\n",
       "      <th></th>\n",
       "      <th>TIME(m)</th>\n",
       "    </tr>\n",
       "    <tr>\n",
       "      <th>SOLVER</th>\n",
       "      <th></th>\n",
       "    </tr>\n",
       "  </thead>\n",
       "  <tbody>\n",
       "    <tr>\n",
       "      <th>CPLEX</th>\n",
       "      <td>0.552015</td>\n",
       "    </tr>\n",
       "    <tr>\n",
       "      <th>GUROBI</th>\n",
       "      <td>1.674395</td>\n",
       "    </tr>\n",
       "    <tr>\n",
       "      <th>SCIP</th>\n",
       "      <td>4.903974</td>\n",
       "    </tr>\n",
       "    <tr>\n",
       "      <th>CBC</th>\n",
       "      <td>6.639227</td>\n",
       "    </tr>\n",
       "  </tbody>\n",
       "</table>\n",
       "</div>"
      ],
      "text/plain": [
       "         TIME(m)\n",
       "SOLVER          \n",
       "CPLEX   0.552015\n",
       "GUROBI  1.674395\n",
       "SCIP    4.903974\n",
       "CBC     6.639227"
      ]
     },
     "execution_count": 174,
     "metadata": {},
     "output_type": "execute_result"
    }
   ],
   "source": [
    "time_by_solvers"
   ]
  },
  {
   "cell_type": "code",
   "execution_count": 179,
   "metadata": {},
   "outputs": [
    {
     "data": {
      "text/plain": [
       "<Axes: xlabel='SOLVER'>"
      ]
     },
     "execution_count": 179,
     "metadata": {},
     "output_type": "execute_result"
    },
    {
     "data": {
      "image/png": "[encoded data removed]",
      "text/plain": [
       "<Figure size 640x480 with 1 Axes>"
      ]
     },
     "metadata": {},
     "output_type": "display_data"
    }
   ],
   "source": [
    "time_by_solvers.plot(kind='bar')"
   ]
  },
  {
   "cell_type": "markdown",
   "metadata": {},
   "source": [
    "## Solver mais rápido com o modelo common blocks\n",
    "\n",
    "Com o modelo CB o solver que mais se destacou o foi o GUROBI, sendo o mais rápido em 6 de 10 testes. No entando pode-se destacar que os tempos do gurobi e do CPLEX foram aproximados."
   ]
  },
  {
   "cell_type": "code",
   "execution_count": 16,
   "metadata": {},
   "outputs": [],
   "source": [
    "df_cb = (df_mean[ df_mean['MODEL'] == 'cb' ]\n",
    "         .drop(labels=['MODEL'], axis='columns')\n",
    "         .reset_index()\n",
    "         .drop('index', axis='columns'))"
   ]
  },
  {
   "cell_type": "code",
   "execution_count": 17,
   "metadata": {},
   "outputs": [
    {
     "name": "stdout",
     "output_type": "stream",
     "text": [
      "113 GUROBI\n",
      "114 CPLEX\n",
      "115 GUROBI\n",
      "118 GUROBI\n",
      "119 GUROBI\n",
      "123 GUROBI\n",
      "137 GUROBI\n",
      "158 CPLEX\n",
      "162 CPLEX\n",
      "170 CPLEX\n"
     ]
    }
   ],
   "source": [
    "for key, df in df_cb.groupby(['SIZE']):\n",
    "    print(key[0],df.sort_values(by=['TIME(ms)']).iloc[0]['SOLVER'])"
   ]
  },
  {
   "cell_type": "code",
   "execution_count": 18,
   "metadata": {},
   "outputs": [],
   "source": [
    "df_cb['SPEEDUP'] = df_cb['TIME(ms)'] / df_cb.groupby(['SIZE'])['TIME(ms)'].transform('min')"
   ]
  },
  {
   "cell_type": "code",
   "execution_count": 19,
   "metadata": {},
   "outputs": [
    {
     "data": {
      "text/html": [
       "<div>\n",
       "<style scoped>\n",
       "    .dataframe tbody tr th:only-of-type {\n",
       "        vertical-align: middle;\n",
       "    }\n",
       "\n",
       "    .dataframe tbody tr th {\n",
       "        vertical-align: top;\n",
       "    }\n",
       "\n",
       "    .dataframe thead th {\n",
       "        text-align: right;\n",
       "    }\n",
       "</style>\n",
       "<table border=\"1\" class=\"dataframe\">\n",
       "  <thead>\n",
       "    <tr style=\"text-align: right;\">\n",
       "      <th></th>\n",
       "      <th></th>\n",
       "      <th>TIME(ms)</th>\n",
       "      <th>SPEEDUP</th>\n",
       "    </tr>\n",
       "    <tr>\n",
       "      <th>SIZE</th>\n",
       "      <th>SOLVER</th>\n",
       "      <th></th>\n",
       "      <th></th>\n",
       "    </tr>\n",
       "  </thead>\n",
       "  <tbody>\n",
       "    <tr>\n",
       "      <th rowspan=\"4\" valign=\"top\">113</th>\n",
       "      <th>GUROBI</th>\n",
       "      <td>544.115116</td>\n",
       "      <td>1.000000</td>\n",
       "    </tr>\n",
       "    <tr>\n",
       "      <th>CPLEX</th>\n",
       "      <td>645.323271</td>\n",
       "      <td>1.186005</td>\n",
       "    </tr>\n",
       "    <tr>\n",
       "      <th>CBC</th>\n",
       "      <td>798.509694</td>\n",
       "      <td>1.467538</td>\n",
       "    </tr>\n",
       "    <tr>\n",
       "      <th>SCIP</th>\n",
       "      <td>8366.244648</td>\n",
       "      <td>15.375872</td>\n",
       "    </tr>\n",
       "    <tr>\n",
       "      <th rowspan=\"4\" valign=\"top\">114</th>\n",
       "      <th>CPLEX</th>\n",
       "      <td>405.231365</td>\n",
       "      <td>1.000000</td>\n",
       "    </tr>\n",
       "    <tr>\n",
       "      <th>GUROBI</th>\n",
       "      <td>407.004823</td>\n",
       "      <td>1.004376</td>\n",
       "    </tr>\n",
       "    <tr>\n",
       "      <th>CBC</th>\n",
       "      <td>2034.015381</td>\n",
       "      <td>5.019393</td>\n",
       "    </tr>\n",
       "    <tr>\n",
       "      <th>SCIP</th>\n",
       "      <td>2589.926019</td>\n",
       "      <td>6.391228</td>\n",
       "    </tr>\n",
       "    <tr>\n",
       "      <th rowspan=\"4\" valign=\"top\">115</th>\n",
       "      <th>GUROBI</th>\n",
       "      <td>770.778061</td>\n",
       "      <td>1.000000</td>\n",
       "    </tr>\n",
       "    <tr>\n",
       "      <th>CPLEX</th>\n",
       "      <td>1216.423265</td>\n",
       "      <td>1.578176</td>\n",
       "    </tr>\n",
       "    <tr>\n",
       "      <th>SCIP</th>\n",
       "      <td>4432.614645</td>\n",
       "      <td>5.750831</td>\n",
       "    </tr>\n",
       "    <tr>\n",
       "      <th>CBC</th>\n",
       "      <td>5412.095513</td>\n",
       "      <td>7.021600</td>\n",
       "    </tr>\n",
       "    <tr>\n",
       "      <th rowspan=\"4\" valign=\"top\">118</th>\n",
       "      <th>GUROBI</th>\n",
       "      <td>588.882277</td>\n",
       "      <td>1.000000</td>\n",
       "    </tr>\n",
       "    <tr>\n",
       "      <th>CBC</th>\n",
       "      <td>614.213719</td>\n",
       "      <td>1.043016</td>\n",
       "    </tr>\n",
       "    <tr>\n",
       "      <th>CPLEX</th>\n",
       "      <td>1517.852603</td>\n",
       "      <td>2.577514</td>\n",
       "    </tr>\n",
       "    <tr>\n",
       "      <th>SCIP</th>\n",
       "      <td>7140.554952</td>\n",
       "      <td>12.125607</td>\n",
       "    </tr>\n",
       "    <tr>\n",
       "      <th rowspan=\"4\" valign=\"top\">119</th>\n",
       "      <th>GUROBI</th>\n",
       "      <td>327.270177</td>\n",
       "      <td>1.000000</td>\n",
       "    </tr>\n",
       "    <tr>\n",
       "      <th>CPLEX</th>\n",
       "      <td>376.573732</td>\n",
       "      <td>1.150651</td>\n",
       "    </tr>\n",
       "    <tr>\n",
       "      <th>SCIP</th>\n",
       "      <td>833.985677</td>\n",
       "      <td>2.548309</td>\n",
       "    </tr>\n",
       "    <tr>\n",
       "      <th>CBC</th>\n",
       "      <td>867.667058</td>\n",
       "      <td>2.651226</td>\n",
       "    </tr>\n",
       "    <tr>\n",
       "      <th rowspan=\"4\" valign=\"top\">123</th>\n",
       "      <th>GUROBI</th>\n",
       "      <td>1378.199610</td>\n",
       "      <td>1.000000</td>\n",
       "    </tr>\n",
       "    <tr>\n",
       "      <th>CPLEX</th>\n",
       "      <td>1549.810168</td>\n",
       "      <td>1.124518</td>\n",
       "    </tr>\n",
       "    <tr>\n",
       "      <th>CBC</th>\n",
       "      <td>3931.360577</td>\n",
       "      <td>2.852534</td>\n",
       "    </tr>\n",
       "    <tr>\n",
       "      <th>SCIP</th>\n",
       "      <td>6875.972432</td>\n",
       "      <td>4.989098</td>\n",
       "    </tr>\n",
       "    <tr>\n",
       "      <th rowspan=\"4\" valign=\"top\">137</th>\n",
       "      <th>GUROBI</th>\n",
       "      <td>1323.715903</td>\n",
       "      <td>1.000000</td>\n",
       "    </tr>\n",
       "    <tr>\n",
       "      <th>CPLEX</th>\n",
       "      <td>1617.315187</td>\n",
       "      <td>1.221799</td>\n",
       "    </tr>\n",
       "    <tr>\n",
       "      <th>CBC</th>\n",
       "      <td>2363.742377</td>\n",
       "      <td>1.785687</td>\n",
       "    </tr>\n",
       "    <tr>\n",
       "      <th>SCIP</th>\n",
       "      <td>17283.008597</td>\n",
       "      <td>13.056433</td>\n",
       "    </tr>\n",
       "    <tr>\n",
       "      <th rowspan=\"4\" valign=\"top\">158</th>\n",
       "      <th>CPLEX</th>\n",
       "      <td>6617.511677</td>\n",
       "      <td>1.000000</td>\n",
       "    </tr>\n",
       "    <tr>\n",
       "      <th>GUROBI</th>\n",
       "      <td>29365.453565</td>\n",
       "      <td>4.437537</td>\n",
       "    </tr>\n",
       "    <tr>\n",
       "      <th>CBC</th>\n",
       "      <td>47800.103413</td>\n",
       "      <td>7.223275</td>\n",
       "    </tr>\n",
       "    <tr>\n",
       "      <th>SCIP</th>\n",
       "      <td>61085.755013</td>\n",
       "      <td>9.230925</td>\n",
       "    </tr>\n",
       "    <tr>\n",
       "      <th rowspan=\"4\" valign=\"top\">162</th>\n",
       "      <th>CPLEX</th>\n",
       "      <td>8013.901926</td>\n",
       "      <td>1.000000</td>\n",
       "    </tr>\n",
       "    <tr>\n",
       "      <th>GUROBI</th>\n",
       "      <td>8500.906935</td>\n",
       "      <td>1.060770</td>\n",
       "    </tr>\n",
       "    <tr>\n",
       "      <th>SCIP</th>\n",
       "      <td>19890.846303</td>\n",
       "      <td>2.482043</td>\n",
       "    </tr>\n",
       "    <tr>\n",
       "      <th>CBC</th>\n",
       "      <td>36160.772032</td>\n",
       "      <td>4.512255</td>\n",
       "    </tr>\n",
       "    <tr>\n",
       "      <th rowspan=\"4\" valign=\"top\">170</th>\n",
       "      <th>CPLEX</th>\n",
       "      <td>2833.677748</td>\n",
       "      <td>1.000000</td>\n",
       "    </tr>\n",
       "    <tr>\n",
       "      <th>GUROBI</th>\n",
       "      <td>39698.821465</td>\n",
       "      <td>14.009646</td>\n",
       "    </tr>\n",
       "    <tr>\n",
       "      <th>SCIP</th>\n",
       "      <td>45428.911635</td>\n",
       "      <td>16.031785</td>\n",
       "    </tr>\n",
       "    <tr>\n",
       "      <th>CBC</th>\n",
       "      <td>54006.309894</td>\n",
       "      <td>19.058734</td>\n",
       "    </tr>\n",
       "  </tbody>\n",
       "</table>\n",
       "</div>"
      ],
      "text/plain": [
       "                 TIME(ms)    SPEEDUP\n",
       "SIZE SOLVER                         \n",
       "113  GUROBI    544.115116   1.000000\n",
       "     CPLEX     645.323271   1.186005\n",
       "     CBC       798.509694   1.467538\n",
       "     SCIP     8366.244648  15.375872\n",
       "114  CPLEX     405.231365   1.000000\n",
       "     GUROBI    407.004823   1.004376\n",
       "     CBC      2034.015381   5.019393\n",
       "     SCIP     2589.926019   6.391228\n",
       "115  GUROBI    770.778061   1.000000\n",
       "     CPLEX    1216.423265   1.578176\n",
       "     SCIP     4432.614645   5.750831\n",
       "     CBC      5412.095513   7.021600\n",
       "118  GUROBI    588.882277   1.000000\n",
       "     CBC       614.213719   1.043016\n",
       "     CPLEX    1517.852603   2.577514\n",
       "     SCIP     7140.554952  12.125607\n",
       "119  GUROBI    327.270177   1.000000\n",
       "     CPLEX     376.573732   1.150651\n",
       "     SCIP      833.985677   2.548309\n",
       "     CBC       867.667058   2.651226\n",
       "123  GUROBI   1378.199610   1.000000\n",
       "     CPLEX    1549.810168   1.124518\n",
       "     CBC      3931.360577   2.852534\n",
       "     SCIP     6875.972432   4.989098\n",
       "137  GUROBI   1323.715903   1.000000\n",
       "     CPLEX    1617.315187   1.221799\n",
       "     CBC      2363.742377   1.785687\n",
       "     SCIP    17283.008597  13.056433\n",
       "158  CPLEX    6617.511677   1.000000\n",
       "     GUROBI  29365.453565   4.437537\n",
       "     CBC     47800.103413   7.223275\n",
       "     SCIP    61085.755013   9.230925\n",
       "162  CPLEX    8013.901926   1.000000\n",
       "     GUROBI   8500.906935   1.060770\n",
       "     SCIP    19890.846303   2.482043\n",
       "     CBC     36160.772032   4.512255\n",
       "170  CPLEX    2833.677748   1.000000\n",
       "     GUROBI  39698.821465  14.009646\n",
       "     SCIP    45428.911635  16.031785\n",
       "     CBC     54006.309894  19.058734"
      ]
     },
     "execution_count": 19,
     "metadata": {},
     "output_type": "execute_result"
    }
   ],
   "source": [
    "df_cb_sorted = pd.DataFrame()\n",
    "for key, df in df_cb.groupby('SIZE'):\n",
    "    df_cb_sorted = pd.concat([df_cb_sorted,df.sort_values('TIME(ms)', ascending=True)])\n",
    "pd.DataFrame(df_cb_sorted.groupby('SIZE').apply(lambda x: x.drop('SIZE', axis='columns').set_index('SOLVER')))"
   ]
  },
  {
   "cell_type": "markdown",
   "metadata": {},
   "source": [
    "![](cb1.png) ![](cb2.png)"
   ]
  },
  {
   "cell_type": "markdown",
   "metadata": {},
   "source": [
    "## Solver mais rápido com o modelo common substring\n",
    "\n",
    "Com o modelo CS o solver que mais se destacou foi o CPLEX, sendo o mais rápido em 8 de 10 testes."
   ]
  },
  {
   "cell_type": "code",
   "execution_count": 153,
   "metadata": {
    "id": "N1On54RCisvL"
   },
   "outputs": [],
   "source": [
    "df_cs = (df_mean[ df_mean['MODEL'] == 'cs' ]\n",
    "         .drop(labels=['MODEL'], axis='columns')\n",
    "         .reset_index()\n",
    "         .drop('index', axis='columns'))"
   ]
  },
  {
   "cell_type": "code",
   "execution_count": 154,
   "metadata": {},
   "outputs": [
    {
     "name": "stdout",
     "output_type": "stream",
     "text": [
      "113 CPLEX\n",
      "114 GUROBI\n",
      "115 CPLEX\n",
      "118 CPLEX\n",
      "119 GUROBI\n",
      "123 CPLEX\n",
      "137 CPLEX\n",
      "158 CPLEX\n",
      "162 CPLEX\n",
      "170 CPLEX\n"
     ]
    }
   ],
   "source": [
    "for key, df in df_cs.groupby(['SIZE']):\n",
    "    print(key[0],df.sort_values(by=['TIME(ms)']).iloc[0]['SOLVER'])"
   ]
  },
  {
   "cell_type": "code",
   "execution_count": 155,
   "metadata": {},
   "outputs": [],
   "source": [
    "df_cs['SPEEDUP'] = df_cs['TIME(ms)'] / df_cs.groupby(['SIZE'])['TIME(ms)'].transform('min')"
   ]
  },
  {
   "cell_type": "code",
   "execution_count": 156,
   "metadata": {},
   "outputs": [
    {
     "data": {
      "text/html": [
       "<div>\n",
       "<style scoped>\n",
       "    .dataframe tbody tr th:only-of-type {\n",
       "        vertical-align: middle;\n",
       "    }\n",
       "\n",
       "    .dataframe tbody tr th {\n",
       "        vertical-align: top;\n",
       "    }\n",
       "\n",
       "    .dataframe thead th {\n",
       "        text-align: right;\n",
       "    }\n",
       "</style>\n",
       "<table border=\"1\" class=\"dataframe\">\n",
       "  <thead>\n",
       "    <tr style=\"text-align: right;\">\n",
       "      <th></th>\n",
       "      <th></th>\n",
       "      <th>TIME(ms)</th>\n",
       "      <th>SPEEDUP</th>\n",
       "    </tr>\n",
       "    <tr>\n",
       "      <th>SIZE</th>\n",
       "      <th>SOLVER</th>\n",
       "      <th></th>\n",
       "      <th></th>\n",
       "    </tr>\n",
       "  </thead>\n",
       "  <tbody>\n",
       "    <tr>\n",
       "      <th rowspan=\"4\" valign=\"top\">113</th>\n",
       "      <th>CPLEX</th>\n",
       "      <td>131.865216</td>\n",
       "      <td>1.000000</td>\n",
       "    </tr>\n",
       "    <tr>\n",
       "      <th>GUROBI</th>\n",
       "      <td>223.077206</td>\n",
       "      <td>1.691706</td>\n",
       "    </tr>\n",
       "    <tr>\n",
       "      <th>CBC</th>\n",
       "      <td>2528.662252</td>\n",
       "      <td>19.176113</td>\n",
       "    </tr>\n",
       "    <tr>\n",
       "      <th>SCIP</th>\n",
       "      <td>5541.219203</td>\n",
       "      <td>42.021841</td>\n",
       "    </tr>\n",
       "    <tr>\n",
       "      <th rowspan=\"4\" valign=\"top\">114</th>\n",
       "      <th>GUROBI</th>\n",
       "      <td>88.360752</td>\n",
       "      <td>1.000000</td>\n",
       "    </tr>\n",
       "    <tr>\n",
       "      <th>CPLEX</th>\n",
       "      <td>121.132300</td>\n",
       "      <td>1.370884</td>\n",
       "    </tr>\n",
       "    <tr>\n",
       "      <th>CBC</th>\n",
       "      <td>1513.407755</td>\n",
       "      <td>17.127602</td>\n",
       "    </tr>\n",
       "    <tr>\n",
       "      <th>SCIP</th>\n",
       "      <td>3236.938145</td>\n",
       "      <td>36.633212</td>\n",
       "    </tr>\n",
       "    <tr>\n",
       "      <th rowspan=\"4\" valign=\"top\">115</th>\n",
       "      <th>CPLEX</th>\n",
       "      <td>217.910235</td>\n",
       "      <td>1.000000</td>\n",
       "    </tr>\n",
       "    <tr>\n",
       "      <th>GUROBI</th>\n",
       "      <td>339.791306</td>\n",
       "      <td>1.559318</td>\n",
       "    </tr>\n",
       "    <tr>\n",
       "      <th>CBC</th>\n",
       "      <td>1915.793845</td>\n",
       "      <td>8.791665</td>\n",
       "    </tr>\n",
       "    <tr>\n",
       "      <th>SCIP</th>\n",
       "      <td>7824.921690</td>\n",
       "      <td>35.908922</td>\n",
       "    </tr>\n",
       "    <tr>\n",
       "      <th rowspan=\"4\" valign=\"top\">118</th>\n",
       "      <th>CPLEX</th>\n",
       "      <td>244.734816</td>\n",
       "      <td>1.000000</td>\n",
       "    </tr>\n",
       "    <tr>\n",
       "      <th>GUROBI</th>\n",
       "      <td>321.005877</td>\n",
       "      <td>1.311648</td>\n",
       "    </tr>\n",
       "    <tr>\n",
       "      <th>CBC</th>\n",
       "      <td>2356.868458</td>\n",
       "      <td>9.630295</td>\n",
       "    </tr>\n",
       "    <tr>\n",
       "      <th>SCIP</th>\n",
       "      <td>3139.880671</td>\n",
       "      <td>12.829726</td>\n",
       "    </tr>\n",
       "    <tr>\n",
       "      <th rowspan=\"4\" valign=\"top\">119</th>\n",
       "      <th>GUROBI</th>\n",
       "      <td>76.650568</td>\n",
       "      <td>1.000000</td>\n",
       "    </tr>\n",
       "    <tr>\n",
       "      <th>CPLEX</th>\n",
       "      <td>130.710074</td>\n",
       "      <td>1.705272</td>\n",
       "    </tr>\n",
       "    <tr>\n",
       "      <th>CBC</th>\n",
       "      <td>714.235403</td>\n",
       "      <td>9.318071</td>\n",
       "    </tr>\n",
       "    <tr>\n",
       "      <th>SCIP</th>\n",
       "      <td>1327.051084</td>\n",
       "      <td>17.312997</td>\n",
       "    </tr>\n",
       "    <tr>\n",
       "      <th rowspan=\"4\" valign=\"top\">123</th>\n",
       "      <th>CPLEX</th>\n",
       "      <td>346.414390</td>\n",
       "      <td>1.000000</td>\n",
       "    </tr>\n",
       "    <tr>\n",
       "      <th>GUROBI</th>\n",
       "      <td>539.768545</td>\n",
       "      <td>1.558159</td>\n",
       "    </tr>\n",
       "    <tr>\n",
       "      <th>CBC</th>\n",
       "      <td>3188.090265</td>\n",
       "      <td>9.203112</td>\n",
       "    </tr>\n",
       "    <tr>\n",
       "      <th>SCIP</th>\n",
       "      <td>4772.060477</td>\n",
       "      <td>13.775584</td>\n",
       "    </tr>\n",
       "    <tr>\n",
       "      <th rowspan=\"4\" valign=\"top\">137</th>\n",
       "      <th>CPLEX</th>\n",
       "      <td>277.632552</td>\n",
       "      <td>1.000000</td>\n",
       "    </tr>\n",
       "    <tr>\n",
       "      <th>GUROBI</th>\n",
       "      <td>561.857187</td>\n",
       "      <td>2.023744</td>\n",
       "    </tr>\n",
       "    <tr>\n",
       "      <th>CBC</th>\n",
       "      <td>2079.731561</td>\n",
       "      <td>7.490950</td>\n",
       "    </tr>\n",
       "    <tr>\n",
       "      <th>SCIP</th>\n",
       "      <td>10377.018274</td>\n",
       "      <td>37.376807</td>\n",
       "    </tr>\n",
       "    <tr>\n",
       "      <th rowspan=\"4\" valign=\"top\">158</th>\n",
       "      <th>CPLEX</th>\n",
       "      <td>3263.897939</td>\n",
       "      <td>1.000000</td>\n",
       "    </tr>\n",
       "    <tr>\n",
       "      <th>GUROBI</th>\n",
       "      <td>5225.784777</td>\n",
       "      <td>1.601087</td>\n",
       "    </tr>\n",
       "    <tr>\n",
       "      <th>SCIP</th>\n",
       "      <td>34525.536261</td>\n",
       "      <td>10.578007</td>\n",
       "    </tr>\n",
       "    <tr>\n",
       "      <th>CBC</th>\n",
       "      <td>161055.740897</td>\n",
       "      <td>49.344601</td>\n",
       "    </tr>\n",
       "    <tr>\n",
       "      <th rowspan=\"4\" valign=\"top\">162</th>\n",
       "      <th>CPLEX</th>\n",
       "      <td>1657.126813</td>\n",
       "      <td>1.000000</td>\n",
       "    </tr>\n",
       "    <tr>\n",
       "      <th>GUROBI</th>\n",
       "      <td>3557.740716</td>\n",
       "      <td>2.146933</td>\n",
       "    </tr>\n",
       "    <tr>\n",
       "      <th>CBC</th>\n",
       "      <td>19398.382648</td>\n",
       "      <td>11.706034</td>\n",
       "    </tr>\n",
       "    <tr>\n",
       "      <th>SCIP</th>\n",
       "      <td>32959.959216</td>\n",
       "      <td>19.889823</td>\n",
       "    </tr>\n",
       "    <tr>\n",
       "      <th rowspan=\"4\" valign=\"top\">170</th>\n",
       "      <th>CPLEX</th>\n",
       "      <td>1935.759126</td>\n",
       "      <td>1.000000</td>\n",
       "    </tr>\n",
       "    <tr>\n",
       "      <th>GUROBI</th>\n",
       "      <td>6624.329423</td>\n",
       "      <td>3.422084</td>\n",
       "    </tr>\n",
       "    <tr>\n",
       "      <th>SCIP</th>\n",
       "      <td>16605.442252</td>\n",
       "      <td>8.578259</td>\n",
       "    </tr>\n",
       "    <tr>\n",
       "      <th>CBC</th>\n",
       "      <td>49613.140626</td>\n",
       "      <td>25.629811</td>\n",
       "    </tr>\n",
       "  </tbody>\n",
       "</table>\n",
       "</div>"
      ],
      "text/plain": [
       "                  TIME(ms)    SPEEDUP\n",
       "SIZE SOLVER                          \n",
       "113  CPLEX      131.865216   1.000000\n",
       "     GUROBI     223.077206   1.691706\n",
       "     CBC       2528.662252  19.176113\n",
       "     SCIP      5541.219203  42.021841\n",
       "114  GUROBI      88.360752   1.000000\n",
       "     CPLEX      121.132300   1.370884\n",
       "     CBC       1513.407755  17.127602\n",
       "     SCIP      3236.938145  36.633212\n",
       "115  CPLEX      217.910235   1.000000\n",
       "     GUROBI     339.791306   1.559318\n",
       "     CBC       1915.793845   8.791665\n",
       "     SCIP      7824.921690  35.908922\n",
       "118  CPLEX      244.734816   1.000000\n",
       "     GUROBI     321.005877   1.311648\n",
       "     CBC       2356.868458   9.630295\n",
       "     SCIP      3139.880671  12.829726\n",
       "119  GUROBI      76.650568   1.000000\n",
       "     CPLEX      130.710074   1.705272\n",
       "     CBC        714.235403   9.318071\n",
       "     SCIP      1327.051084  17.312997\n",
       "123  CPLEX      346.414390   1.000000\n",
       "     GUROBI     539.768545   1.558159\n",
       "     CBC       3188.090265   9.203112\n",
       "     SCIP      4772.060477  13.775584\n",
       "137  CPLEX      277.632552   1.000000\n",
       "     GUROBI     561.857187   2.023744\n",
       "     CBC       2079.731561   7.490950\n",
       "     SCIP     10377.018274  37.376807\n",
       "158  CPLEX     3263.897939   1.000000\n",
       "     GUROBI    5225.784777   1.601087\n",
       "     SCIP     34525.536261  10.578007\n",
       "     CBC     161055.740897  49.344601\n",
       "162  CPLEX     1657.126813   1.000000\n",
       "     GUROBI    3557.740716   2.146933\n",
       "     CBC      19398.382648  11.706034\n",
       "     SCIP     32959.959216  19.889823\n",
       "170  CPLEX     1935.759126   1.000000\n",
       "     GUROBI    6624.329423   3.422084\n",
       "     SCIP     16605.442252   8.578259\n",
       "     CBC      49613.140626  25.629811"
      ]
     },
     "execution_count": 156,
     "metadata": {},
     "output_type": "execute_result"
    }
   ],
   "source": [
    "df_cs_sorted = pd.DataFrame()\n",
    "for key, df in df_cs.groupby('SIZE'):\n",
    "    df_cs_sorted = pd.concat([df_cs_sorted,df.sort_values('TIME(ms)', ascending=True)])\n",
    "pd.DataFrame(df_cs_sorted.groupby('SIZE').apply(lambda x: x.drop('SIZE', axis='columns').set_index('SOLVER')))"
   ]
  },
  {
   "cell_type": "markdown",
   "metadata": {},
   "source": [
    "![](cs1.png) ![](cs2.png)"
   ]
  }
 ],
 "metadata": {
  "colab": {
   "provenance": []
  },
  "kernelspec": {
   "display_name": "Python 3 (ipykernel)",
   "language": "python",
   "name": "python3"
  },
  "language_info": {
   "codemirror_mode": {
    "name": "ipython",
    "version": 3
   },
   "file_extension": ".py",
   "mimetype": "text/x-python",
   "name": "python",
   "nbconvert_exporter": "python",
   "pygments_lexer": "ipython3",
   "version": "3.11.2"
  }
 },
 "nbformat": 4,
 "nbformat_minor": 1
}
